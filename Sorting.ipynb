{
 "cells": [
  {
   "cell_type": "code",
   "execution_count": 6,
   "metadata": {},
   "outputs": [
    {
     "data": {
      "text/plain": [
       "[65, 45, 17, 12, 7, 5, 3, 2]"
      ]
     },
     "execution_count": 6,
     "metadata": {},
     "output_type": "execute_result"
    }
   ],
   "source": [
    "def insertionsort(lst):\n",
    "    i=1\n",
    "    while i< len(lst):\n",
    "        x = lst[i]\n",
    "        j = i-1\n",
    "        while j>=0 and lst[j]<x:\n",
    "            lst[j+1]=lst[j]\n",
    "            j-=1\n",
    "        lst[j+1]=x\n",
    "        i+=1\n",
    "    return lst\n",
    "l = [12,3,45,5,65,17,2,7]\n",
    "insertionsort(l)"
   ]
  },
  {
   "cell_type": "code",
   "execution_count": 5,
   "metadata": {},
   "outputs": [
    {
     "data": {
      "text/plain": [
       "[2, 3, 5, 12, 17, 37, 45, 51]"
      ]
     },
     "execution_count": 5,
     "metadata": {},
     "output_type": "execute_result"
    }
   ],
   "source": [
    "\n",
    "        \n",
    "def merge(l1,l2):\n",
    "    if len(l1)==0:\n",
    "        return l2\n",
    "    elif len(l2)==0:\n",
    "        return l1\n",
    "    l=[]\n",
    "    while len(l1)>0 and len(l2)>0:\n",
    "        if l1[0]>l2[0]:\n",
    "            l.append(l2[0])\n",
    "            l2.remove(l2[0])\n",
    "        else:\n",
    "            l.append(l1[0])\n",
    "            l1.remove(l1[0])\n",
    "    if len(l1)>0:\n",
    "        l.extend(l1)\n",
    "    else:\n",
    "        l.extend(l2)\n",
    "    return l     \n",
    "def mergesort(lst):\n",
    "    if len(lst)==0:\n",
    "        return lst\n",
    "    elif len(lst)==1:\n",
    "        return lst\n",
    "    else:\n",
    "        mid = len(lst)//2\n",
    "        left = lst[:mid]\n",
    "        right = lst[mid:]\n",
    "        l1 = mergesort(left)\n",
    "        l2 = mergesort(right)\n",
    "        return merge(l1,l2)\n",
    "l = [12,3,45,51,5,17,2,37]\n",
    "mergesort(l)"
   ]
  },
  {
   "cell_type": "code",
   "execution_count": null,
   "metadata": {},
   "outputs": [],
   "source": []
  }
 ],
 "metadata": {
  "kernelspec": {
   "display_name": "Python 3",
   "language": "python",
   "name": "python3"
  },
  "language_info": {
   "codemirror_mode": {
    "name": "ipython",
    "version": 3
   },
   "file_extension": ".py",
   "mimetype": "text/x-python",
   "name": "python",
   "nbconvert_exporter": "python",
   "pygments_lexer": "ipython3",
   "version": "3.8.1"
  }
 },
 "nbformat": 4,
 "nbformat_minor": 4
}
